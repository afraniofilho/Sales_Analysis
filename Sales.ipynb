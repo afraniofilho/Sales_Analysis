{
 "cells": [
  {
   "cell_type": "code",
   "execution_count": 1,
   "metadata": {},
   "outputs": [],
   "source": [
    "import pandas as pd\n",
    "import matplotlib.pyplot as plt"
   ]
  },
  {
   "cell_type": "code",
   "execution_count": 2,
   "metadata": {},
   "outputs": [],
   "source": [
    "df = pd.read_csv(\"c:/python/Sales_data.csv\")"
   ]
  },
  {
   "cell_type": "code",
   "execution_count": 4,
   "metadata": {},
   "outputs": [
    {
     "data": {
      "text/html": [
       "<div>\n",
       "<style scoped>\n",
       "    .dataframe tbody tr th:only-of-type {\n",
       "        vertical-align: middle;\n",
       "    }\n",
       "\n",
       "    .dataframe tbody tr th {\n",
       "        vertical-align: top;\n",
       "    }\n",
       "\n",
       "    .dataframe thead th {\n",
       "        text-align: right;\n",
       "    }\n",
       "</style>\n",
       "<table border=\"1\" class=\"dataframe\">\n",
       "  <thead>\n",
       "    <tr style=\"text-align: right;\">\n",
       "      <th></th>\n",
       "      <th>CÓD - Name</th>\n",
       "      <th>Street</th>\n",
       "      <th>Country</th>\n",
       "      <th>City</th>\n",
       "      <th>DATE OF PURCHASE / SALE</th>\n",
       "      <th>PURCHASE VALUE</th>\n",
       "      <th>DUE DATE</th>\n",
       "      <th>INDEX</th>\n",
       "    </tr>\n",
       "  </thead>\n",
       "  <tbody>\n",
       "    <tr>\n",
       "      <th>0</th>\n",
       "      <td>844adica9 - ADICEIA CAMPOS DA FONSECA</td>\n",
       "      <td>AV. SIMEÃO DE FARIA</td>\n",
       "      <td>BRASIL</td>\n",
       "      <td>SÃO JOSÉ</td>\n",
       "      <td>1998-09-05</td>\n",
       "      <td>2</td>\n",
       "      <td>1998-10-31</td>\n",
       "      <td>0</td>\n",
       "    </tr>\n",
       "    <tr>\n",
       "      <th>1</th>\n",
       "      <td>542adiis9 - ADILSON ANICODEMOS DOS REIS</td>\n",
       "      <td>JOÀO DE OLIVEIRA, 20</td>\n",
       "      <td>BRASIL</td>\n",
       "      <td>JACAREÍ</td>\n",
       "      <td>1998-11-01</td>\n",
       "      <td>2</td>\n",
       "      <td>1998-12-30</td>\n",
       "      <td>1</td>\n",
       "    </tr>\n",
       "    <tr>\n",
       "      <th>2</th>\n",
       "      <td>869adiva9 - ADILSON FRANCISCO DA SILVA</td>\n",
       "      <td>LUIZ VICENTIM, 45</td>\n",
       "      <td>BRASIL</td>\n",
       "      <td>JACAREÍ</td>\n",
       "      <td>1998-08-03</td>\n",
       "      <td>2</td>\n",
       "      <td>1998-08-05</td>\n",
       "      <td>2</td>\n",
       "    </tr>\n",
       "    <tr>\n",
       "      <th>3</th>\n",
       "      <td>141adias9 - ADILSON NATAL VILAS BOAS</td>\n",
       "      <td>RUA TORMALINO, 95</td>\n",
       "      <td>BRASIL</td>\n",
       "      <td>JACAREÍ</td>\n",
       "      <td>1998-09-02</td>\n",
       "      <td>2</td>\n",
       "      <td>1998-09-29</td>\n",
       "      <td>3</td>\n",
       "    </tr>\n",
       "    <tr>\n",
       "      <th>4</th>\n",
       "      <td>124adiso9 - ADILSON SANTANA IDELFONSO</td>\n",
       "      <td>RUA GUARARÁPES, 51</td>\n",
       "      <td>BRASIL</td>\n",
       "      <td>JACAREÍ</td>\n",
       "      <td>1998-07-23</td>\n",
       "      <td>2</td>\n",
       "      <td>1998-08-26</td>\n",
       "      <td>4</td>\n",
       "    </tr>\n",
       "    <tr>\n",
       "      <th>...</th>\n",
       "      <td>...</td>\n",
       "      <td>...</td>\n",
       "      <td>...</td>\n",
       "      <td>...</td>\n",
       "      <td>...</td>\n",
       "      <td>...</td>\n",
       "      <td>...</td>\n",
       "      <td>...</td>\n",
       "    </tr>\n",
       "    <tr>\n",
       "      <th>195</th>\n",
       "      <td>1arlda9 - ARLEM GRAZIEL DIAS DE ALMEIDA</td>\n",
       "      <td>RUA BENTO GONCALVES, 45</td>\n",
       "      <td>BRASIL</td>\n",
       "      <td>TRES RIOS</td>\n",
       "      <td>2002-10-09</td>\n",
       "      <td>5</td>\n",
       "      <td>2002-10-12</td>\n",
       "      <td>195</td>\n",
       "    </tr>\n",
       "    <tr>\n",
       "      <th>196</th>\n",
       "      <td>7artto9 - ARTHUR BARRA PORTO</td>\n",
       "      <td>RUA N, 83</td>\n",
       "      <td>BRASIL</td>\n",
       "      <td>TRES RIOS</td>\n",
       "      <td>2002-10-18</td>\n",
       "      <td>5</td>\n",
       "      <td>2002-12-08</td>\n",
       "      <td>196</td>\n",
       "    </tr>\n",
       "    <tr>\n",
       "      <th>197</th>\n",
       "      <td>6artra9 - ARTHUR CAMPOS DE OLIVEIRA</td>\n",
       "      <td>RUA CORONEL ALCINDO NUNES PEREIRA, 94/03</td>\n",
       "      <td>BRASIL</td>\n",
       "      <td>TRES RIOS</td>\n",
       "      <td>2002-10-29</td>\n",
       "      <td>5</td>\n",
       "      <td>2002-11-11</td>\n",
       "      <td>197</td>\n",
       "    </tr>\n",
       "    <tr>\n",
       "      <th>198</th>\n",
       "      <td>1athra9 - ATHOS CUSTÓDIO SIQUEIRA</td>\n",
       "      <td>RUA ASSUENE ANTONIO RIBEIRO,890</td>\n",
       "      <td>BRASIL</td>\n",
       "      <td>TRES RIOS</td>\n",
       "      <td>2002-11-21</td>\n",
       "      <td>5</td>\n",
       "      <td>2003-01-07</td>\n",
       "      <td>198</td>\n",
       "    </tr>\n",
       "    <tr>\n",
       "      <th>199</th>\n",
       "      <td>2aurno9 - AUREA APARECIDA PIFANO</td>\n",
       "      <td>RUA MARIA JOAQUINA DA MOTTA, 275/90</td>\n",
       "      <td>BRASIL</td>\n",
       "      <td>TRES RIOS</td>\n",
       "      <td>2003-01-16</td>\n",
       "      <td>5</td>\n",
       "      <td>2003-04-22</td>\n",
       "      <td>199</td>\n",
       "    </tr>\n",
       "  </tbody>\n",
       "</table>\n",
       "<p>200 rows × 8 columns</p>\n",
       "</div>"
      ],
      "text/plain": [
       "                                  CÓD - Name  \\\n",
       "0      844adica9 - ADICEIA CAMPOS DA FONSECA   \n",
       "1    542adiis9 - ADILSON ANICODEMOS DOS REIS   \n",
       "2     869adiva9 - ADILSON FRANCISCO DA SILVA   \n",
       "3       141adias9 - ADILSON NATAL VILAS BOAS   \n",
       "4      124adiso9 - ADILSON SANTANA IDELFONSO   \n",
       "..                                       ...   \n",
       "195  1arlda9 - ARLEM GRAZIEL DIAS DE ALMEIDA   \n",
       "196             7artto9 - ARTHUR BARRA PORTO   \n",
       "197      6artra9 - ARTHUR CAMPOS DE OLIVEIRA   \n",
       "198        1athra9 - ATHOS CUSTÓDIO SIQUEIRA   \n",
       "199         2aurno9 - AUREA APARECIDA PIFANO   \n",
       "\n",
       "                                       Street Country       City  \\\n",
       "0                         AV. SIMEÃO DE FARIA  BRASIL   SÃO JOSÉ   \n",
       "1                        JOÀO DE OLIVEIRA, 20  BRASIL    JACAREÍ   \n",
       "2                           LUIZ VICENTIM, 45  BRASIL    JACAREÍ   \n",
       "3                           RUA TORMALINO, 95  BRASIL    JACAREÍ   \n",
       "4                          RUA GUARARÁPES, 51  BRASIL    JACAREÍ   \n",
       "..                                        ...     ...        ...   \n",
       "195                   RUA BENTO GONCALVES, 45  BRASIL  TRES RIOS   \n",
       "196                                 RUA N, 83  BRASIL  TRES RIOS   \n",
       "197  RUA CORONEL ALCINDO NUNES PEREIRA, 94/03  BRASIL  TRES RIOS   \n",
       "198           RUA ASSUENE ANTONIO RIBEIRO,890  BRASIL  TRES RIOS   \n",
       "199       RUA MARIA JOAQUINA DA MOTTA, 275/90  BRASIL  TRES RIOS   \n",
       "\n",
       "    DATE OF PURCHASE / SALE  PURCHASE VALUE    DUE DATE  INDEX  \n",
       "0                1998-09-05               2  1998-10-31      0  \n",
       "1                1998-11-01               2  1998-12-30      1  \n",
       "2                1998-08-03               2  1998-08-05      2  \n",
       "3                1998-09-02               2  1998-09-29      3  \n",
       "4                1998-07-23               2  1998-08-26      4  \n",
       "..                      ...             ...         ...    ...  \n",
       "195              2002-10-09               5  2002-10-12    195  \n",
       "196              2002-10-18               5  2002-12-08    196  \n",
       "197              2002-10-29               5  2002-11-11    197  \n",
       "198              2002-11-21               5  2003-01-07    198  \n",
       "199              2003-01-16               5  2003-04-22    199  \n",
       "\n",
       "[200 rows x 8 columns]"
      ]
     },
     "execution_count": 4,
     "metadata": {},
     "output_type": "execute_result"
    }
   ],
   "source": [
    "df.head(200)"
   ]
  },
  {
   "cell_type": "code",
   "execution_count": 5,
   "metadata": {},
   "outputs": [
    {
     "data": {
      "text/plain": [
       "CÓD - Name                 object\n",
       "Street                     object\n",
       "Country                    object\n",
       "City                       object\n",
       "DATE OF PURCHASE / SALE    object\n",
       "PURCHASE VALUE              int64\n",
       "DUE DATE                   object\n",
       "INDEX                       int64\n",
       "dtype: object"
      ]
     },
     "execution_count": 5,
     "metadata": {},
     "output_type": "execute_result"
    }
   ],
   "source": [
    "df.dtypes"
   ]
  },
  {
   "cell_type": "markdown",
   "metadata": {},
   "source": [
    "# Valor total de vendas no Brasil"
   ]
  },
  {
   "cell_type": "code",
   "execution_count": 6,
   "metadata": {},
   "outputs": [],
   "source": [
    "sum_pur_Brasil = df.loc[df['Country'] == 'BRASIL', 'PURCHASE VALUE'].sum()"
   ]
  },
  {
   "cell_type": "code",
   "execution_count": 7,
   "metadata": {},
   "outputs": [
    {
     "name": "stdout",
     "output_type": "stream",
     "text": [
      "As vendas totais no Brasil foram de R$ 30489\n"
     ]
    }
   ],
   "source": [
    "print('As vendas totais no Brasil foram de R$ '+str(sum_pur_Brasil))"
   ]
  },
  {
   "cell_type": "markdown",
   "metadata": {},
   "source": [
    "# A quantidade total de vendas no Brasil"
   ]
  },
  {
   "cell_type": "markdown",
   "metadata": {},
   "source": [
    "### T est"
   ]
  },
  {
   "cell_type": "code",
   "execution_count": 8,
   "metadata": {},
   "outputs": [],
   "source": [
    "count_pur_Brasil = df.loc[df['Country'] == 'BRASIL', 'PURCHASE VALUE'].count()"
   ]
  },
  {
   "cell_type": "code",
   "execution_count": 9,
   "metadata": {},
   "outputs": [
    {
     "name": "stdout",
     "output_type": "stream",
     "text": [
      "A quantidade de vendas totais no Brasil foram de 933\n"
     ]
    }
   ],
   "source": [
    "print('A quantidade de vendas totais no Brasil foram de '+str(count_pur_Brasil))"
   ]
  },
  {
   "cell_type": "markdown",
   "metadata": {},
   "source": [
    "# O valor de vendas no Brasil na cidade de São José"
   ]
  },
  {
   "cell_type": "code",
   "execution_count": 10,
   "metadata": {},
   "outputs": [
    {
     "data": {
      "text/plain": [
       "189"
      ]
     },
     "execution_count": 10,
     "metadata": {},
     "output_type": "execute_result"
    }
   ],
   "source": [
    "df.loc[df['City']=='SÃO JOSÉ', 'PURCHASE VALUE'].sum()"
   ]
  },
  {
   "cell_type": "markdown",
   "metadata": {},
   "source": [
    "# Valor de vendas em datas específicas"
   ]
  },
  {
   "cell_type": "code",
   "execution_count": 13,
   "metadata": {},
   "outputs": [
    {
     "data": {
      "text/plain": [
       "CÓD - Name                         object\n",
       "Street                             object\n",
       "Country                            object\n",
       "City                               object\n",
       "DATE OF PURCHASE / SALE            object\n",
       "PURCHASE VALUE                      int64\n",
       "DUE DATE                   datetime64[ns]\n",
       "INDEX                               int64\n",
       "dtype: object"
      ]
     },
     "execution_count": 13,
     "metadata": {},
     "output_type": "execute_result"
    }
   ],
   "source": [
    "df.dtypes"
   ]
  },
  {
   "cell_type": "markdown",
   "metadata": {},
   "source": [
    "# Transformar colunas de formato object em formato data"
   ]
  },
  {
   "cell_type": "code",
   "execution_count": 12,
   "metadata": {},
   "outputs": [],
   "source": [
    "df['DUE DATE'] = pd.to_datetime(df['DUE DATE'])"
   ]
  },
  {
   "cell_type": "code",
   "execution_count": 14,
   "metadata": {},
   "outputs": [],
   "source": [
    "df['DATE OF PURCHASE / SALE'] = pd.to_datetime(df['DATE OF PURCHASE / SALE'])"
   ]
  },
  {
   "cell_type": "code",
   "execution_count": 15,
   "metadata": {},
   "outputs": [
    {
     "data": {
      "text/plain": [
       "CÓD - Name                         object\n",
       "Street                             object\n",
       "Country                            object\n",
       "City                               object\n",
       "DATE OF PURCHASE / SALE    datetime64[ns]\n",
       "PURCHASE VALUE                      int64\n",
       "DUE DATE                   datetime64[ns]\n",
       "INDEX                               int64\n",
       "dtype: object"
      ]
     },
     "execution_count": 15,
     "metadata": {},
     "output_type": "execute_result"
    }
   ],
   "source": [
    "df.dtypes"
   ]
  },
  {
   "cell_type": "markdown",
   "metadata": {},
   "source": [
    "## Valor total das vendas nos meses de novembro"
   ]
  },
  {
   "cell_type": "code",
   "execution_count": 16,
   "metadata": {},
   "outputs": [
    {
     "data": {
      "text/plain": [
       "38454"
      ]
     },
     "execution_count": 16,
     "metadata": {},
     "output_type": "execute_result"
    }
   ],
   "source": [
    "df.loc[df['DUE DATE'].dt.month == 11,'PURCHASE VALUE'].sum()"
   ]
  },
  {
   "cell_type": "markdown",
   "metadata": {},
   "source": [
    "## Valor total das vendas no ano de 2003"
   ]
  },
  {
   "cell_type": "code",
   "execution_count": 17,
   "metadata": {},
   "outputs": [
    {
     "data": {
      "text/plain": [
       "102757"
      ]
     },
     "execution_count": 17,
     "metadata": {},
     "output_type": "execute_result"
    }
   ],
   "source": [
    "df.loc[df['DUE DATE'].dt.year == 2003,'PURCHASE VALUE'].sum()"
   ]
  },
  {
   "cell_type": "markdown",
   "metadata": {},
   "source": [
    "## Valor total das vendas em novembro do ano de 2003"
   ]
  },
  {
   "cell_type": "code",
   "execution_count": 18,
   "metadata": {},
   "outputs": [
    {
     "data": {
      "text/plain": [
       "6903"
      ]
     },
     "execution_count": 18,
     "metadata": {},
     "output_type": "execute_result"
    }
   ],
   "source": [
    "df.loc[(df['DUE DATE'].dt.year == 2003)&(df['DUE DATE'].dt.month == 11),'PURCHASE VALUE'].sum()"
   ]
  },
  {
   "cell_type": "markdown",
   "metadata": {},
   "source": [
    "## Tratando os dados para gerar gráficos (método pivot_table)"
   ]
  },
  {
   "cell_type": "markdown",
   "metadata": {},
   "source": [
    "## Valores das vendas (total, quantidade e média)  por país"
   ]
  },
  {
   "cell_type": "code",
   "execution_count": 19,
   "metadata": {},
   "outputs": [],
   "source": [
    "df_ct = df.pivot_table(values='PURCHASE VALUE', index=['Country'], \n",
    "                            aggfunc=('sum','count','mean'))"
   ]
  },
  {
   "cell_type": "code",
   "execution_count": 20,
   "metadata": {},
   "outputs": [
    {
     "data": {
      "text/html": [
       "<div>\n",
       "<style scoped>\n",
       "    .dataframe tbody tr th:only-of-type {\n",
       "        vertical-align: middle;\n",
       "    }\n",
       "\n",
       "    .dataframe tbody tr th {\n",
       "        vertical-align: top;\n",
       "    }\n",
       "\n",
       "    .dataframe thead th {\n",
       "        text-align: right;\n",
       "    }\n",
       "</style>\n",
       "<table border=\"1\" class=\"dataframe\">\n",
       "  <thead>\n",
       "    <tr style=\"text-align: right;\">\n",
       "      <th></th>\n",
       "      <th>count</th>\n",
       "      <th>mean</th>\n",
       "      <th>sum</th>\n",
       "    </tr>\n",
       "    <tr>\n",
       "      <th>Country</th>\n",
       "      <th></th>\n",
       "      <th></th>\n",
       "      <th></th>\n",
       "    </tr>\n",
       "  </thead>\n",
       "  <tbody>\n",
       "    <tr>\n",
       "      <th>BRASIL</th>\n",
       "      <td>933.0</td>\n",
       "      <td>32.678457</td>\n",
       "      <td>30489.0</td>\n",
       "    </tr>\n",
       "    <tr>\n",
       "      <th>MÉXICO</th>\n",
       "      <td>34.0</td>\n",
       "      <td>55.000000</td>\n",
       "      <td>1870.0</td>\n",
       "    </tr>\n",
       "    <tr>\n",
       "      <th>SERVIA</th>\n",
       "      <td>1144.0</td>\n",
       "      <td>448.144231</td>\n",
       "      <td>512677.0</td>\n",
       "    </tr>\n",
       "  </tbody>\n",
       "</table>\n",
       "</div>"
      ],
      "text/plain": [
       "          count        mean       sum\n",
       "Country                              \n",
       "BRASIL    933.0   32.678457   30489.0\n",
       "MÉXICO     34.0   55.000000    1870.0\n",
       "SERVIA   1144.0  448.144231  512677.0"
      ]
     },
     "execution_count": 20,
     "metadata": {},
     "output_type": "execute_result"
    }
   ],
   "source": [
    "df_ct"
   ]
  },
  {
   "cell_type": "markdown",
   "metadata": {},
   "source": [
    "## Gerando gráficos"
   ]
  },
  {
   "cell_type": "markdown",
   "metadata": {},
   "source": [
    "## Gráfico de pizza dos valores de  vendas por país"
   ]
  },
  {
   "cell_type": "code",
   "execution_count": 21,
   "metadata": {},
   "outputs": [
    {
     "data": {
      "text/plain": [
       "<matplotlib.axes._subplots.AxesSubplot at 0x1de800a1710>"
      ]
     },
     "execution_count": 21,
     "metadata": {},
     "output_type": "execute_result"
    },
    {
     "data": {
      "image/png": "[encoded data removed]",
      "text/plain": [
       "<Figure size 432x288 with 1 Axes>"
      ]
     },
     "metadata": {},
     "output_type": "display_data"
    }
   ],
   "source": [
    "df_ct['sum'].plot.pie()"
   ]
  },
  {
   "cell_type": "code",
   "execution_count": 22,
   "metadata": {},
   "outputs": [
    {
     "data": {
      "text/plain": [
       "<matplotlib.axes._subplots.AxesSubplot at 0x1de82125e10>"
      ]
     },
     "execution_count": 22,
     "metadata": {},
     "output_type": "execute_result"
    },
    {
     "data": {
      "image/png": "[encoded data removed]",
      "text/plain": [
       "<Figure size 432x288 with 1 Axes>"
      ]
     },
     "metadata": {},
     "output_type": "display_data"
    }
   ],
   "source": [
    "df_ct['count'].plot.pie()"
   ]
  },
  {
   "cell_type": "code",
   "execution_count": 23,
   "metadata": {},
   "outputs": [
    {
     "data": {
      "text/plain": [
       "<matplotlib.axes._subplots.AxesSubplot at 0x1de821762e8>"
      ]
     },
     "execution_count": 23,
     "metadata": {},
     "output_type": "execute_result"
    },
    {
     "data": {
      "image/png": "[encoded data removed]",
      "text/plain": [
       "<Figure size 432x288 with 1 Axes>"
      ]
     },
     "metadata": {},
     "output_type": "display_data"
    }
   ],
   "source": [
    "df_ct['mean'].plot.pie()"
   ]
  },
  {
   "cell_type": "markdown",
   "metadata": {},
   "source": [
    "## Gráfico de barra dos valores de  vendas por país"
   ]
  },
  {
   "cell_type": "code",
   "execution_count": 24,
   "metadata": {},
   "outputs": [
    {
     "data": {
      "text/plain": [
       "<matplotlib.axes._subplots.AxesSubplot at 0x1de821b36d8>"
      ]
     },
     "execution_count": 24,
     "metadata": {},
     "output_type": "execute_result"
    },
    {
     "data": {
      "image/png": "[encoded data removed]",
      "text/plain": [
       "<Figure size 432x288 with 1 Axes>"
      ]
     },
     "metadata": {},
     "output_type": "display_data"
    }
   ],
   "source": [
    "df_ct['count'].plot.bar()"
   ]
  },
  {
   "cell_type": "code",
   "execution_count": 27,
   "metadata": {},
   "outputs": [
    {
     "data": {
      "text/plain": [
       "<matplotlib.axes._subplots.AxesSubplot at 0x1de822d1be0>"
      ]
     },
     "execution_count": 27,
     "metadata": {},
     "output_type": "execute_result"
    },
    {
     "data": {
      "image/png": "[encoded data removed]",
      "text/plain": [
       "<Figure size 432x288 with 1 Axes>"
      ]
     },
     "metadata": {},
     "output_type": "display_data"
    }
   ],
   "source": [
    "df_ct['count'].sort_values(ascending=False).plot.bar(color='red')"
   ]
  },
  {
   "cell_type": "code",
   "execution_count": null,
   "metadata": {},
   "outputs": [],
   "source": []
  }
 ],
 "metadata": {
  "kernelspec": {
   "display_name": "Python 3",
   "language": "python",
   "name": "python3"
  },
  "language_info": {
   "codemirror_mode": {
    "name": "ipython",
    "version": 3
   },
   "file_extension": ".py",
   "mimetype": "text/x-python",
   "name": "python",
   "nbconvert_exporter": "python",
   "pygments_lexer": "ipython3",
   "version": "3.6.5"
  }
 },
 "nbformat": 4,
 "nbformat_minor": 2
}
